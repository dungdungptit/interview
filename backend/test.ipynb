{
 "cells": [
  {
   "cell_type": "code",
   "execution_count": 4,
   "metadata": {},
   "outputs": [
    {
     "name": "stdout",
     "output_type": "stream",
     "text": [
      "load\n"
     ]
    }
   ],
   "source": [
    "import json\n",
    "import re\n",
    "\n",
    "def load_dict_replace():\n",
    "    with open(\"./dict_replace.json\", \"r\", encoding=\"utf8\") as json_file:\n",
    "        dict_replace = json.load(json_file)\n",
    "        print(\"load\")\n",
    "    return dict_replace\n",
    "\n",
    "dict_replace = load_dict_replace()\n",
    "\n",
    "\n",
    "def normalize_replace_abbreviation_text(text):\n",
    "    # text = re.sub(\n",
    "    #     r\"[\\.,\\(\\)]\", \" \", text\n",
    "    # )  # thay thế các kí tự đặc biệt bằng khoảng trắng\n",
    "    # text = re.sub(\"<.*?>\", \"\", text).strip()\n",
    "    # text = re.sub(\"(\\s)+\", r\"\\1\", text)\n",
    "    # chars = re.escape(string.punctuation)\n",
    "    # text = re.sub(\n",
    "    #     r\"[\" + chars + \"]\", \" \", text\n",
    "    # )  # thay thế các kí tự đặc biệt bằng khoảng trắng\n",
    "    text = re.sub(r\"\\s+\", \" \", text)  # thay thế nhiều khoảng trắng bằng 1 khoảng trắng\n",
    "    text = text.strip()  # xóa khoảng trắng ở đầu và cuối\n",
    "    text = text.lower()  # chuyển về chữ thường\n",
    "    \"\"\" \n",
    "    # \"cntt\" -> \"công nghệ thông tin\"\n",
    "    text = re.sub(r'\\bcntt\\b', 'công nghệ thông tin', text)\n",
    "    # \"ntn\" -> \"như thế nào\"\n",
    "    text = re.sub(r'\\bntn\\b', 'như thế nào', text)\n",
    "    # \"ad, adm\" -> \"admin\"\n",
    "    text = re.sub(r'\\b(ad|adm)\\b', 'admin', text)\n",
    "    text = re.sub(r'\\b(gd dt|gddt)\\b', 'giáo dục đào tạo', text) \n",
    "    # điểm chuẩn -> điểm trúng tuyển\n",
    "    text = re.sub(r'\\bđiểm chuẩn\\b', 'điểm trúng tuyển', text)\n",
    "    \"\"\"\n",
    "\n",
    "    for k, v in dict_replace.items():\n",
    "        text = re.sub(r\"\\b\" + \"(\" + k + \")\" + r\"\\b\", v, text)\n",
    "\n",
    "    return text"
   ]
  },
  {
   "cell_type": "code",
   "execution_count": 5,
   "metadata": {},
   "outputs": [
    {
     "name": "stdout",
     "output_type": "stream",
     "text": [
      "em có giải quốc gia môn toán thì xét tuyển phương thức nào\n"
     ]
    }
   ],
   "source": [
    "texr = \"em có giải quốc gia môn toán thì xét tuyển phương thức nào\"\n",
    "print(normalize_replace_abbreviation_text(texr))"
   ]
  },
  {
   "cell_type": "code",
   "execution_count": 9,
   "metadata": {},
   "outputs": [
    {
     "name": "stdout",
     "output_type": "stream",
     "text": [
      "{'message': \"Successfuly uploaded ['test.mp4', 'test1.mp4']\", 'result': [{'content': 0.9194690620437933, 'pronunciation': 12.0, 'fluency': 10, 'emotions': {'anger': 31, 'contempt': 66, 'disgust': 1, 'fear': 1, 'happy': 0, 'sadness': 0, 'surprise': 1}}, {'content': 0.9020193364184559, 'pronunciation': 12.0, 'fluency': 10, 'emotions': {'anger': 66, 'contempt': 32, 'disgust': 1, 'fear': 0, 'happy': 0, 'sadness': 0, 'surprise': 1}}]}\n"
     ]
    }
   ],
   "source": [
    "import requests\n",
    "\n",
    "url = 'http://localhost:8080/virtual_interview_2'\n",
    "files = [('files', open('./test.mp4', 'rb')), ('files', open('./test1.mp4', 'rb'))]\n",
    "resp = requests.post(url=url, files=files)\n",
    "print(resp.json())"
   ]
  },
  {
   "cell_type": "code",
   "execution_count": 6,
   "metadata": {},
   "outputs": [
    {
     "name": "stdout",
     "output_type": "stream",
     "text": [
      "Thank you for watching We always update the latest and hottest issues to send to you Here are the details The boy was found dead in the well But when the police found him, he was dead Now, the police have taken him out of the well The rock has covered Phung's body so it was hard to find him But later, the police decided to look for him and found him Now, the police are in Phung's house to help the family Earlier, at the beginning of the afternoon on May 3 Phung's brother left the house but he didn't come back Immediately, the family and the locals went everywhere to look for him but they couldn't find him Phung's brother fell into the well so some locals reported to the local government We received the news that the fire department and the rescue team of Dong Nai police station cooperated with the unified district police to send the professional rescue team to Xuan Thien commune to look for him but we didn't find any suspicious sign On the afternoon of May 5 the people's committee of Xuan Thien commune mobilized all the police officers to look for Phung The team was split up to look for Phung in Lo Ca Su area along the river around Xuan Thien commune and nearby communes At 11am on May 6 the cause of the fire was found\n",
      "\n",
      "Jaccard Similarity: 0.05944055944055944\n",
      "Euclidian Similarity: 0.9130466299571414\n",
      "Compression Similarity: 0.09566184649610676\n",
      "\n",
      "The resultant text from video is: \n",
      "\n",
      "it's all dark gloomy dull and lonely that's what you see when you don't hire me hi I am Leon Joyce De Flores 23 years old and a graduate of communication Arts major in digital cinema at Far Eastern University Manila ever since I was a kid I have always loved Arts anything about Arts sketching drawing coloring designing filmmaking photography literary arts and even Performing Arts like music so that let me to continue pursuing my passion this time let's talk about why you should hire me these are my strengths hardworking creative and willing I am hard working because I have juggled and excelled in school work and church activities all at the same time so if you are going to give me a lot of tasks no worries I can handle that because I work under pressure with quality I am creative because being part of a family that doesn't seriously you need to be resourceful you need to find ways you need to think of new ideas so I started to innovate I am willing because I still don't know everything and I am a work in progress so I want to pass over learning new things and in fact anyone can be so talented and so capable of doing a lot of things but not everyone can be available and willing and that's about it I hope that you consider my job application because I believe that this is the position this is the place and this is the moment I have always been wanting and waiting for thank you and God bless you\n",
      "it's all dark gloomy dull and lonely that's what you see when you don't hire me hi I am Leon Joyce De Flores 23 years old and a graduate of communication Arts major in digital cinema at Far Eastern University Manila ever since I was a kid I have always loved Arts anything about Arts sketching drawing coloring designing filmmaking photography literary arts and even Performing Arts like music so that let me to continue pursuing my passion this time let's talk about why you should hire me these are my strengths hardworking creative and willing I am hard working because I have juggled and excelled in school work and church activities all at the same time so if you are going to give me a lot of tasks no worries I can handle that because I work under pressure with quality I am creative because being part of a family that doesn't seriously you need to be resourceful you need to find ways you need to think of new ideas so I started to innovate I am willing because I still don't know everything and I am a work in progress so I want to pass over learning new things and in fact anyone can be so talented and so capable of doing a lot of things but not everyone can be available and willing and that's about it I hope that you consider my job application because I believe that this is the position this is the place and this is the moment I have always been wanting and waiting for thank you and God bless you\n"
     ]
    },
    {
     "data": {
      "text/plain": [
       "[{'content': 0.9130466299571414,\n",
       "  'pronunciation': 14.686567164179106,\n",
       "  'fluency': 10,\n",
       "  'word_scores': [('Understanding', 1),\n",
       "   ('of', 1),\n",
       "   ('Software', 1),\n",
       "   ('Development', 1),\n",
       "   ('Process:', 1),\n",
       "   ('Assess', 1),\n",
       "   ('the', 1),\n",
       "   ('candidate’s', 1),\n",
       "   ('knowledge', 1),\n",
       "   ('of', 1),\n",
       "   ('software', 1),\n",
       "   ('development', 1),\n",
       "   ('methodologies', 1),\n",
       "   ('and', 1),\n",
       "   ('practices', 1),\n",
       "   ('(e.g.,', 1),\n",
       "   ('Agile,', 1),\n",
       "   ('Waterfall,', 1),\n",
       "   ('Scrum).Consider', 1),\n",
       "   ('their', 1),\n",
       "   ('ability', 1),\n",
       "   ('to', 1),\n",
       "   ('apply', 1),\n",
       "   ('these', 1),\n",
       "   ('principles', 1),\n",
       "   ('and', 3),\n",
       "   ('methods', 1),\n",
       "   ('in', 1),\n",
       "   ('a', 3),\n",
       "   ('project', 1),\n",
       "   ('context.Teamwork', 1),\n",
       "   ('and', 1),\n",
       "   ('Collaboration:Evaluate', 1),\n",
       "   ('their', 1),\n",
       "   ('ability', 1),\n",
       "   ('to', 1),\n",
       "   ('work', 1),\n",
       "   ('effectively', 1),\n",
       "   ('within', 1),\n",
       "   ('a', 1),\n",
       "   ('team.Consider', 1),\n",
       "   ('their', 1),\n",
       "   ('communication', 1),\n",
       "   ('skills', 1),\n",
       "   ('and', 1),\n",
       "   ('ability', 1),\n",
       "   ('to', 1),\n",
       "   ('collaborate', 1),\n",
       "   ('with', 1),\n",
       "   ('other', 1),\n",
       "   ('team', 1),\n",
       "   ('members.Communication', 1),\n",
       "   ('Skills:Assess', 1),\n",
       "   ('how', 1),\n",
       "   ('clearly', 1),\n",
       "   ('and', 1),\n",
       "   ('logically', 1),\n",
       "   ('the', 1),\n",
       "   ('candidate', 1),\n",
       "   ('presents', 1),\n",
       "   ('details', 1),\n",
       "   ('about', 1),\n",
       "   ('the', 1),\n",
       "   ('project', 1),\n",
       "   ('and', 3),\n",
       "   ('their', 1),\n",
       "   ('contributions', 1)]}]"
      ]
     },
     "execution_count": 6,
     "metadata": {},
     "output_type": "execute_result"
    }
   ],
   "source": [
    "# load openai api key from file .env\n",
    "from dotenv import load_dotenv\n",
    "import numpy as np  # linear algebra\n",
    "import pandas as pd  # data processing, CSV file I/O (e.g. pd.read_csv)\n",
    "from simphile import jaccard_similarity, euclidian_similarity, compression_similarity\n",
    "from getpass import getpass\n",
    "import os\n",
    "from openai import OpenAI\n",
    "from logic import Speaker_speech_analysis\n",
    "\n",
    "load_dotenv()\n",
    "\n",
    "client = OpenAI()\n",
    "res = []\n",
    "audio_file = open(\"test.mp4\", \"rb\")\n",
    "transcription = client.audio.transcriptions.create(\n",
    "    model=\"whisper-1\",\n",
    "    file=audio_file,\n",
    "    response_format=\"text\",\n",
    "    language=\"en\",\n",
    ")\n",
    "print(transcription)\n",
    "\n",
    "text_b = \"Understanding of Software Development Process: Assess the candidate’s knowledge of software development methodologies and practices (e.g., Agile, Waterfall, Scrum).Consider their ability to apply these principles and methods in a project context.Teamwork and Collaboration:Evaluate their ability to work effectively within a team.Consider their communication skills and ability to collaborate with other team members.Communication Skills:Assess how clearly and logically the candidate presents details about the project and their contributions\"\n",
    "\n",
    "print(f\"Jaccard Similarity: {jaccard_similarity(transcription, text_b)}\")\n",
    "print(f\"Euclidian Similarity: {euclidian_similarity(transcription, text_b)}\")\n",
    "print(\n",
    "    f\"Compression Similarity: {compression_similarity(transcription, text_b)}\"\n",
    ")\n",
    "\n",
    "result = Speaker_speech_analysis(\"test_audio.wav\", text_b)\n",
    "res.append(\n",
    "    {\n",
    "        \"content\": euclidian_similarity(transcription, text_b),\n",
    "        \"pronunciation\": result[\"pronunciation_accuracy\"],\n",
    "        \"fluency\": result[\"fluency_score\"],\n",
    "        \"word_scores\": result[\"word_scores\"],\n",
    "    }\n",
    ")\n",
    "res"
   ]
  },
  {
   "cell_type": "code",
   "execution_count": 1,
   "metadata": {},
   "outputs": [
    {
     "data": {
      "text/plain": [
       "'e:\\\\Learn-AI\\\\ai-pronunciation-trainer\\\\interview\\\\backend'"
      ]
     },
     "execution_count": 1,
     "metadata": {},
     "output_type": "execute_result"
    }
   ],
   "source": [
    "import os\n",
    "current_dir = os.getcwd()\n",
    "os.chdir(\"Data\")\n",
    "current_dir"
   ]
  }
 ],
 "metadata": {
  "kernelspec": {
   "display_name": "llm-env",
   "language": "python",
   "name": "python3"
  },
  "language_info": {
   "codemirror_mode": {
    "name": "ipython",
    "version": 3
   },
   "file_extension": ".py",
   "mimetype": "text/x-python",
   "name": "python",
   "nbconvert_exporter": "python",
   "pygments_lexer": "ipython3",
   "version": "3.10.14"
  }
 },
 "nbformat": 4,
 "nbformat_minor": 2
}
