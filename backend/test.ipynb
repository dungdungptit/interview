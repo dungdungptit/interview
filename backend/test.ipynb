{
 "cells": [
  {
   "cell_type": "code",
   "execution_count": 4,
   "metadata": {},
   "outputs": [
    {
     "name": "stdout",
     "output_type": "stream",
     "text": [
      "load\n"
     ]
    }
   ],
   "source": [
    "import json\n",
    "import re\n",
    "\n",
    "def load_dict_replace():\n",
    "    with open(\"./dict_replace.json\", \"r\", encoding=\"utf8\") as json_file:\n",
    "        dict_replace = json.load(json_file)\n",
    "        print(\"load\")\n",
    "    return dict_replace\n",
    "\n",
    "dict_replace = load_dict_replace()\n",
    "\n",
    "\n",
    "def normalize_replace_abbreviation_text(text):\n",
    "    # text = re.sub(\n",
    "    #     r\"[\\.,\\(\\)]\", \" \", text\n",
    "    # )  # thay thế các kí tự đặc biệt bằng khoảng trắng\n",
    "    # text = re.sub(\"<.*?>\", \"\", text).strip()\n",
    "    # text = re.sub(\"(\\s)+\", r\"\\1\", text)\n",
    "    # chars = re.escape(string.punctuation)\n",
    "    # text = re.sub(\n",
    "    #     r\"[\" + chars + \"]\", \" \", text\n",
    "    # )  # thay thế các kí tự đặc biệt bằng khoảng trắng\n",
    "    text = re.sub(r\"\\s+\", \" \", text)  # thay thế nhiều khoảng trắng bằng 1 khoảng trắng\n",
    "    text = text.strip()  # xóa khoảng trắng ở đầu và cuối\n",
    "    text = text.lower()  # chuyển về chữ thường\n",
    "    \"\"\" \n",
    "    # \"cntt\" -> \"công nghệ thông tin\"\n",
    "    text = re.sub(r'\\bcntt\\b', 'công nghệ thông tin', text)\n",
    "    # \"ntn\" -> \"như thế nào\"\n",
    "    text = re.sub(r'\\bntn\\b', 'như thế nào', text)\n",
    "    # \"ad, adm\" -> \"admin\"\n",
    "    text = re.sub(r'\\b(ad|adm)\\b', 'admin', text)\n",
    "    text = re.sub(r'\\b(gd dt|gddt)\\b', 'giáo dục đào tạo', text) \n",
    "    # điểm chuẩn -> điểm trúng tuyển\n",
    "    text = re.sub(r'\\bđiểm chuẩn\\b', 'điểm trúng tuyển', text)\n",
    "    \"\"\"\n",
    "\n",
    "    for k, v in dict_replace.items():\n",
    "        text = re.sub(r\"\\b\" + \"(\" + k + \")\" + r\"\\b\", v, text)\n",
    "\n",
    "    return text"
   ]
  },
  {
   "cell_type": "code",
   "execution_count": 5,
   "metadata": {},
   "outputs": [
    {
     "name": "stdout",
     "output_type": "stream",
     "text": [
      "em có giải quốc gia môn toán thì xét tuyển phương thức nào\n"
     ]
    }
   ],
   "source": [
    "texr = \"em có giải quốc gia môn toán thì xét tuyển phương thức nào\"\n",
    "print(normalize_replace_abbreviation_text(texr))"
   ]
  }
 ],
 "metadata": {
  "kernelspec": {
   "display_name": "llm-env",
   "language": "python",
   "name": "python3"
  },
  "language_info": {
   "codemirror_mode": {
    "name": "ipython",
    "version": 3
   },
   "file_extension": ".py",
   "mimetype": "text/x-python",
   "name": "python",
   "nbconvert_exporter": "python",
   "pygments_lexer": "ipython3",
   "version": "3.11.5"
  }
 },
 "nbformat": 4,
 "nbformat_minor": 2
}
